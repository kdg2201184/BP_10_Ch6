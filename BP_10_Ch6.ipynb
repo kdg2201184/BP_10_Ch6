{
  "nbformat": 4,
  "nbformat_minor": 0,
  "metadata": {
    "colab": {
      "provenance": [],
      "collapsed_sections": [],
      "authorship_tag": "ABX9TyOKRyP1xPIvghambC/nO0Eo",
      "include_colab_link": true
    },
    "kernelspec": {
      "name": "python3",
      "display_name": "Python 3"
    },
    "language_info": {
      "name": "python"
    }
  },
  "cells": [
    {
      "cell_type": "markdown",
      "metadata": {
        "id": "view-in-github",
        "colab_type": "text"
      },
      "source": [
        "<a href=\"https://colab.research.google.com/github/kdg2201184/BP_10_Ch6/blob/main/BP_10_Ch6.ipynb\" target=\"_parent\"><img src=\"https://colab.research.google.com/assets/colab-badge.svg\" alt=\"Open In Colab\"/></a>"
      ]
    },
    {
      "cell_type": "code",
      "execution_count": null,
      "metadata": {
        "colab": {
          "base_uri": "https://localhost:8080/"
        },
        "id": "kwnlfVpUNkN7",
        "outputId": "03e3b9b0-ff08-4993-8025-cf45438660cd"
      },
      "outputs": [
        {
          "output_type": "stream",
          "name": "stdout",
          "text": [
            "2 4 6 8 10 12 14 16 18 20 22 24 26 28 30 32 34 36 38 40 42 44 46 48 50 52 54 56 58 60 62 64 66 68 70 72 74 76 78 80 82 84 86 88 90 92 94 96 98 100 "
          ]
        }
      ],
      "source": [
        "for i in range(2, 101): #i가 2부터 101까지 변경되며 반복하는 루프\n",
        "  if i%2==0 : #'i가 2로 나누어떨어질 때'라는 조건\n",
        "    print(i,end = \" \") #조건을 충족시킬 때의 결과"
      ]
    },
    {
      "cell_type": "code",
      "source": [
        "year = 0 #목표치까지 걸리는 시간\n",
        "balance = 1000 #처음 저금한 돈의 액수\n",
        "\n",
        "while balance <= 2000 : #'balance가 2000이 될 때까지'라는 조건\n",
        "#원본에선 >=이라고 입력하였다. 이 경우 '0 년이 걸립니다.'라고 출력되기에 잘못된 부분.\n",
        "  year = year + 1\n",
        "  interest = balance * 0.07\n",
        "  balance = balance + interest\n",
        "\n",
        "print(year, \"년이 걸립니다.\")"
      ],
      "metadata": {
        "colab": {
          "base_uri": "https://localhost:8080/"
        },
        "id": "9uTfXnM1Qpwh",
        "outputId": "d1b19796-930d-472c-d044-70cc87f42266"
      },
      "execution_count": null,
      "outputs": [
        {
          "output_type": "stream",
          "name": "stdout",
          "text": [
            "11 년이 걸립니다.\n"
          ]
        }
      ]
    },
    {
      "cell_type": "code",
      "source": [
        "n = 1234 #주어진 수\n",
        "sum = 0\n",
        "while n > 0 :\n",
        "  dight = n % 10 #dight은 자릿수.\n",
        "  sum = sum + dight #자릿수의 합\n",
        "  n = n // 10 #나눗셈에서 몫을 계산한다.\n",
        "print(sum)"
      ],
      "metadata": {
        "colab": {
          "base_uri": "https://localhost:8080/"
        },
        "id": "uslChmeHR99D",
        "outputId": "a7c688e0-0a02-43d0-c394-7a6facee020e"
      },
      "execution_count": null,
      "outputs": [
        {
          "output_type": "stream",
          "name": "stdout",
          "text": [
            "10\n"
          ]
        }
      ]
    },
    {
      "cell_type": "code",
      "source": [
        "ans = 0\n",
        "\n",
        "while ans != 3 * 9: #3*9를 질문\n",
        "  ans = int(input(\"3 * 9는 \"))\n",
        "print(\"맞았습니다.\")\n",
        "#올바른 답(27)을 입력할 때까지의 반복문"
      ],
      "metadata": {
        "colab": {
          "base_uri": "https://localhost:8080/"
        },
        "id": "KTuBRldCSiUM",
        "outputId": "3b51f6db-b8be-485c-9860-63abf6b781b3"
      },
      "execution_count": null,
      "outputs": [
        {
          "output_type": "stream",
          "name": "stdout",
          "text": [
            "3 * 9는 26\n",
            "3 * 9는 27\n",
            "맞았습니다.\n"
          ]
        }
      ]
    },
    {
      "cell_type": "code",
      "source": [
        "sum = 0\n",
        "\n",
        "while True: #무한루프를 만든다.\n",
        "  x = int(input(\"정수를 입력하시오: \"))\n",
        "  if x == 0: #'0을 입력한다면'이라는 조건\n",
        "    break; #조건을 충족하면 무한루프가 종료되게 한다.\n",
        "  sum = sum + x\n",
        "\n",
        "print(\"합은\", sum, \"입니다.\")"
      ],
      "metadata": {
        "colab": {
          "base_uri": "https://localhost:8080/"
        },
        "id": "z4XIXz2mULlX",
        "outputId": "edc9c99e-ad95-4285-da51-9a5c7d1f467c"
      },
      "execution_count": null,
      "outputs": [
        {
          "output_type": "stream",
          "name": "stdout",
          "text": [
            "정수를 입력하시오: 2\n",
            "정수를 입력하시오: 5\n",
            "정수를 입력하시오: 9\n",
            "정수를 입력하시오: 73\n",
            "정수를 입력하시오: 473\n",
            "정수를 입력하시오: 1000\n",
            "정수를 입력하시오: 0\n",
            "합은 1562 입니다.\n"
          ]
        }
      ]
    },
    {
      "cell_type": "code",
      "source": [
        "from random import randint #import randint를 추가해야 셀이 제대로 작동한다.\n",
        "\n",
        "for i in range(3): #3번 반복하는 루프\n",
        "  d1 = randint(1, 6) #1부터 6까지의 난수를 d1로 설정\n",
        "  d2 = randint(1, 6) #1부터 6까지의 난수를 d2로 설정\n",
        "  print(\"첫번째 주사위 =\", d1, \"두 번째 주사위 =\", d2)"
      ],
      "metadata": {
        "id": "c9W3zI3SVP98",
        "colab": {
          "base_uri": "https://localhost:8080/"
        },
        "outputId": "75575bd8-af76-479a-e59f-3162543c0f4b"
      },
      "execution_count": 4,
      "outputs": [
        {
          "output_type": "stream",
          "name": "stdout",
          "text": [
            "첫번째 주사위 = 4 두 번째 주사위 = 5\n",
            "첫번째 주사위 = 1 두 번째 주사위 = 3\n",
            "첫번째 주사위 = 2 두 번째 주사위 = 1\n"
          ]
        }
      ]
    },
    {
      "cell_type": "code",
      "source": [
        "import turtle\n",
        "\n",
        "t = turtle.Turtle()\n",
        "t.shape(\"turtle\")\n",
        "t.left(90)\n",
        "\n",
        "for i in range(1, 7): #6번 반복하는 루프\n",
        "\tt.forward(100) ; t.forward(-30) #문장 뒤에 ;를 붙이면 한 줄에 여러 개의 문장을 쓸 수 있다.\n",
        "\tt.left(60)\n",
        "\tt.forward(30) ; t.forward(-30)\n",
        "\t\n",
        "\tt.right(120)\n",
        "\tt.forward(30) ; t.forward(-30)\n",
        "\t\n",
        "\tt.left(60) ; t.forward(-70) ; t.left(60)\n",
        "\n",
        "t._screen.exitonclick()"
      ],
      "metadata": {
        "id": "53RGFmKv4lHB"
      },
      "execution_count": null,
      "outputs": []
    },
    {
      "cell_type": "code",
      "source": [
        "import turtle\n",
        "\n",
        "t = turtle.Turtle()\n",
        "t.shape(\"turtle\")\n",
        "t.speed(0) #거북이의 속도 지정\n",
        "t.color(\"#FF0000\") #거북이의 색상 지정\n",
        "\n",
        "for j in range(1, 10): #10번 반복하는 루프\n",
        "    for i in range(1, 6): #6번 반복하는 루프\n",
        "        t.left(144)\n",
        "        t.forward(200)\n",
        "    t.left(10)\n",
        "\n",
        "t._screen.exitonclick()"
      ],
      "metadata": {
        "id": "GILxhnaA6_Ps"
      },
      "execution_count": null,
      "outputs": []
    },
    {
      "cell_type": "code",
      "source": [
        "import turtle #터틀그래픽 사용\n",
        "import random #난수 사용\n",
        "\n",
        "t = turtle.Turtle()\n",
        "t.shape(\"turtle\")\n",
        "\n",
        "for j in range(10):\t#10번 반복하는 루프\n",
        "\tt.up()\n",
        "\tx = random.randint(-200, 200) #원의 중심좌표 x의 값\n",
        "\ty = random.randint(-200, 200) #원의 중심좌표 y의 값\n",
        "\tr = random.randint(-200, 200) #원의 반지름 r의 값\n",
        "\tt.goto(x, y)\n",
        "\tt.down()\n",
        "\tt.circle(r)\n",
        "\n",
        "t._screen.exitonclick()"
      ],
      "metadata": {
        "id": "I1qlIrY7_dUn"
      },
      "execution_count": null,
      "outputs": []
    },
    {
      "cell_type": "code",
      "source": [
        "import turtle\n",
        "\n",
        "t = turtle.Turtle()\n",
        "t.shape(\"turtle\")\n",
        "\n",
        "for i in range(5):\n",
        "    t.forward(200) ; t.right(90)\n",
        "    t.forward(20) ; t.right(90)\n",
        "    t.forward(200) ; t.left(90)\n",
        "    t.forward(20) ; t.left(90)\n",
        "\n",
        "t._screen.exitonclick()"
      ],
      "metadata": {
        "id": "w4G8KuwUFIKq"
      },
      "execution_count": null,
      "outputs": []
    },
    {
      "cell_type": "code",
      "source": [
        "import turtle\n",
        "\n",
        "t = turtle.Turtle()\n",
        "t.shape(\"turtle\")\n",
        "t.color('red', 'yellow') #선의 색과 채우기 색상을 각각 설정\n",
        "t.begin_fill() #속이 채워지는 도형이 그려진다.\n",
        "\n",
        "while True: #무한루프\n",
        "\tt.forward(200)\n",
        "\tt.left(170)\n",
        "\tif abs(t.pos()) < 1: #pos() 함수는 거북이의 좌표를 반환하는 역할, abs() 함수는 절댓값 계산\n",
        "  \t\tbreak #현재 거북이의 절댓값이 1보다 작으면 무한루프를 끝내기\n",
        "t.end_fill() #도형의 색이 채워지며 마무리된다.\n",
        "\n",
        "t._screen.exitonclick()"
      ],
      "metadata": {
        "id": "89ldPwvF_lPD"
      },
      "execution_count": null,
      "outputs": []
    },
    {
      "cell_type": "code",
      "source": [
        "import turtle #터틀그래픽 사용\n",
        "import math #함수 사용\n",
        "\n",
        "t = turtle.Turtle()\n",
        "t.shape(\"turtle\")\n",
        "t.color('red', 'yellow') #색상 지정\n",
        "\n",
        "for x in range(0, 360): #0에서 360까지의 반복\n",
        "    t.goto(x, 200*math.sin(x*3.14/180)) #각도를 라디안으로 바꾸는 함수\n",
        "\n",
        "t._screen.exitonclick()"
      ],
      "metadata": {
        "id": "OFul43_9B5RM"
      },
      "execution_count": null,
      "outputs": []
    }
  ]
}